{
 "cells": [
  {
   "cell_type": "markdown",
   "metadata": {},
   "source": [
    "#print 'correct'if i==10"
   ]
  },
  {
   "cell_type": "code",
   "execution_count": null,
   "metadata": {},
   "outputs": [],
   "source": [
    "i=int(input(\"enter the value\"))\n",
    "if i==10:\n",
    "    print(\"correct\")\n",
    "else:\n",
    "    print(\"incorrect\" )"
   ]
  },
  {
   "cell_type": "code",
   "execution_count": null,
   "metadata": {},
   "outputs": [],
   "source": []
  },
  {
   "cell_type": "markdown",
   "metadata": {},
   "source": [
    "#check the password"
   ]
  },
  {
   "cell_type": "code",
   "execution_count": 15,
   "metadata": {},
   "outputs": [
    {
     "name": "stdout",
     "output_type": "stream",
     "text": [
      "password:hoapai123\n",
      "correct\n"
     ]
    }
   ],
   "source": [
    "correct_password=(\"hoapai123\")\n",
    "user_pasword=input(\"password:\")\n",
    "if user_pasword==correct_password:\n",
    "    print(\"correct\")\n",
    "else:\n",
    "    print(\"incorrect \")"
   ]
  },
  {
   "cell_type": "code",
   "execution_count": null,
   "metadata": {},
   "outputs": [],
   "source": []
  },
  {
   "cell_type": "markdown",
   "metadata": {},
   "source": [
    "#catagory the people by their age like children,adult,citizen,senior citizen"
   ]
  },
  {
   "cell_type": "code",
   "execution_count": 21,
   "metadata": {},
   "outputs": [
    {
     "name": "stdout",
     "output_type": "stream",
     "text": [
      "enter the age45\n",
      "senior citizen\n"
     ]
    }
   ],
   "source": [
    "age=int(input(\"enter the age\"))\n",
    "if age<18:\n",
    "    print(\"children\")\n",
    "elif age<30:\n",
    "    print(\"adult\")\n",
    "elif age<45:\n",
    "    print(\"citizen\")\n",
    "else:\n",
    "    print(\"senior citizen\")"
   ]
  },
  {
   "cell_type": "code",
   "execution_count": null,
   "metadata": {},
   "outputs": [],
   "source": []
  },
  {
   "cell_type": "markdown",
   "metadata": {},
   "source": [
    "#find whether given number is positive or negative"
   ]
  },
  {
   "cell_type": "code",
   "execution_count": 10,
   "metadata": {},
   "outputs": [
    {
     "name": "stdout",
     "output_type": "stream",
     "text": [
      "enter the value:3\n",
      "its positive\n"
     ]
    }
   ],
   "source": [
    "value=float(input(\"enter the value:\"))\n",
    "if value<=0:\n",
    "    print(\"its negative\")\n",
    "else:\n",
    "    print(\"its positive\")"
   ]
  },
  {
   "cell_type": "code",
   "execution_count": null,
   "metadata": {},
   "outputs": [],
   "source": []
  },
  {
   "cell_type": "markdown",
   "metadata": {},
   "source": [
    "#check whether the given number is divisible by 5"
   ]
  },
  {
   "cell_type": "code",
   "execution_count": null,
   "metadata": {},
   "outputs": [],
   "source": []
  },
  {
   "cell_type": "code",
   "execution_count": 20,
   "metadata": {},
   "outputs": [
    {
     "name": "stdout",
     "output_type": "stream",
     "text": [
      "enter the value:22\n",
      "it is not divisible by 5\n"
     ]
    }
   ],
   "source": [
    "num=int(input(\"enter the value:\"))\n",
    "if num%5==0:\n",
    "    print(\"it is divisible by 5\")\n",
    "else:\n",
    "    print(\"it is not divisible by 5\")"
   ]
  },
  {
   "cell_type": "code",
   "execution_count": null,
   "metadata": {},
   "outputs": [],
   "source": []
  }
 ],
 "metadata": {
  "kernelspec": {
   "display_name": "Python 3",
   "language": "python",
   "name": "python3"
  },
  "language_info": {
   "codemirror_mode": {
    "name": "ipython",
    "version": 3
   },
   "file_extension": ".py",
   "mimetype": "text/x-python",
   "name": "python",
   "nbconvert_exporter": "python",
   "pygments_lexer": "ipython3",
   "version": "3.7.4"
  }
 },
 "nbformat": 4,
 "nbformat_minor": 2
}
